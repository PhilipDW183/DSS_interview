{
 "cells": [
  {
   "cell_type": "markdown",
   "metadata": {},
   "source": [
    "# Data Science workshop interview: Object Oriented Programming\n",
    "\n",
    "In completing these problems feel free to look back at the workshop tutorial to see what works and what doesn't. This problem sheet will be broken up into two parts:\n",
    "- <b>Debugging problems</b>\n",
    "- <b>Coding from scratch</b>\n",
    "\n",
    "Feel free to do these in either order but debugging should help to solve some of the coding from Scratch problems."
   ]
  },
  {
   "cell_type": "markdown",
   "metadata": {},
   "source": [
    "## Debugging Problems\n",
    "\n",
    "Here the code will be incorrect and so you should correct it such that it will begin to work. The comments give an general indication of what the code is meant to do: \n",
    "\n",
    "### 1) Creating an animal object\n",
    "\n",
    "Here the purpose is to create an animal object"
   ]
  },
  {
   "cell_type": "code",
   "execution_count": null,
   "metadata": {},
   "outputs": [],
   "source": [
    "#create a class of animal\n",
    "class Animal:\n",
    "    \n",
    "    #initialise the object when created with attributes\n",
    "    def __init__(self, legs, wings, fins = False):\n",
    "        self.legs = legs\n",
    "        self.wings = wings\n",
    "        self.fins = fins\n",
    "\n",
    "#create a bird object that has two legs, wings = True and no fins\n",
    "Bird = Animal(2, True)"
   ]
  },
  {
   "cell_type": "markdown",
   "metadata": {},
   "source": [
    "### 2) Accessing attributes\n",
    "\n",
    "The purpose is to be able to access the attributes of the fish, based on the corrected animal class above"
   ]
  },
  {
   "cell_type": "code",
   "execution_count": null,
   "metadata": {},
   "outputs": [],
   "source": [
    "Fish = Animal(0, False, True)\n",
    "\n",
    "#accessing the legs attributes\n",
    "print(f\"The fish has: {str(Fish.legs)} legs\")\n",
    "\n",
    "#accessing the fins attribute\n",
    "print(f\"The fish has fins: {str(Fish.fins)}\")\n",
    "\n",
    "#accessing the wings attribute\n",
    "print(f\"The fish has wings: {str(Fish.wings)}\")"
   ]
  },
  {
   "cell_type": "markdown",
   "metadata": {},
   "source": [
    "### 3) Creating a Dog subclass of animal\n",
    "\n",
    "Creating a dog subclass of animal that takes the same attributes as the animal class but has new methods\n"
   ]
  },
  {
   "cell_type": "code",
   "execution_count": null,
   "metadata": {},
   "outputs": [],
   "source": [
    "class Dog(Animal):\n",
    "    \n",
    "    #setting the class species attribute\n",
    "    species = \"Dog\"\n",
    "    \n",
    "    def __init__(self, legs, wings, fins, breed, name):\n",
    "        #using the parent init\n",
    "        Animal.__init__(self, legs, wings, fins)\n",
    "        #the breed of dog\n",
    "        self.breed = breed\n",
    "        #the name of the dog\n",
    "        self.name = name\n",
    "        \n",
    "    #defining a method to bark\n",
    "    def bark(self):\n",
    "        #print bark\n",
    "        print(\"bark\")\n",
    "    \n",
    "Daisy = Dog(4, False, False, \"Dalmation\", \"Daisy\")\n",
    "\n",
    "Daisy.bark()"
   ]
  },
  {
   "cell_type": "markdown",
   "metadata": {},
   "source": [
    "## Coding from Scratch\n",
    "\n",
    "Here you are expected to code the solutions from scratch. The question will indicate what is expected of the final code and how this may be achieved.\n",
    "\n",
    "### 1) Create a shape object \n",
    "\n",
    "Here you are expected to create an empty shape object that simply has the attributes of: number of faces and number of dimensions (i.e. 2D or 3D but as an integer).\n",
    "\n",
    "Create an instance of the shape class called Pyramid that has 5 faces and 3 dimensions."
   ]
  },
  {
   "cell_type": "code",
   "execution_count": null,
   "metadata": {},
   "outputs": [],
   "source": [
    "#create a class called shape\n",
    "class Shape:\n",
    "    #define attributes\n",
    "    def __init__(self, faces, dimensions):\n",
    "        self.faces = faces\n",
    "        self.dims = dimensions\n",
    "        \n",
    "#create a pyramid instance of the shape        \n",
    "pyramid = Shape(5, 3)"
   ]
  },
  {
   "cell_type": "markdown",
   "metadata": {},
   "source": [
    "### 2) Create a cube class that inherits from the shape class\n",
    "\n",
    "Create a cube class that inherits from the shape class, but adds a attribute for height.\n",
    "\n",
    "Create an instance of the Cube class with 6 faces, 3 dimensions and a height of 10. Check the height."
   ]
  },
  {
   "cell_type": "code",
   "execution_count": null,
   "metadata": {},
   "outputs": [],
   "source": [
    "#define the class cube\n",
    "class Cube(Shape):\n",
    "    #define the characteristics\n",
    "    def __init__(self, faces, dimensions, height):\n",
    "        #inherit from Shape\n",
    "        Shape.__init__(self,faces, dimensions)\n",
    "        #define height\n",
    "        self.height = height\n",
    "\n",
    "#create an instance of the Cube class\n",
    "cube1 = Cube(6, 3, 10)\n",
    "#get the height using dot notation\n",
    "cube1.height\n"
   ]
  },
  {
   "cell_type": "markdown",
   "metadata": {},
   "source": [
    "### 3) Add a method to the cube class to caculate volume\n",
    "\n",
    "Add a method to the square class you created to calcualte the volume of the square. Then create a new square with height = 5 and calculate the volume."
   ]
  },
  {
   "cell_type": "code",
   "execution_count": null,
   "metadata": {},
   "outputs": [],
   "source": [
    "#create a Cube class that inherits from Shape\n",
    "class Cube(Shape):\n",
    "    \n",
    "    def __init__(self, faces, dimensions, height):\n",
    "        Shape.__init__(self,faces, dimensions)\n",
    "        self.height = height\n",
    "        \n",
    "    #create a new method to calculate volume\n",
    "    def calc_vol(self):\n",
    "        return self.height**3\n",
    "    \n",
    "#Create a new cube instance\n",
    "Cube2 = Cube(6,3,5)\n",
    "#get the volume\n",
    "vol_2 = Cube2.calc_vol()\n",
    "#print out the result\n",
    "print(f\"The volume of the new cube is {vol_2}\")"
   ]
  },
  {
   "cell_type": "markdown",
   "metadata": {},
   "source": [
    "### 4) Add a method to the cube class to calculate total surface area\n",
    "\n",
    "Add a method to the square class to calculate the surface area of the cube. Then create a new square with height = 10 and calculate the total surface area."
   ]
  },
  {
   "cell_type": "code",
   "execution_count": null,
   "metadata": {},
   "outputs": [],
   "source": [
    "class Cube(Shape):\n",
    "    \n",
    "    def __init__(self, faces, dimensions, height):\n",
    "        Shape.__init__(self,faces, dimensions)\n",
    "        self.height = height\n",
    "\n",
    "    def calc_vol(self):\n",
    "        return self.height**3\n",
    "    \n",
    "    #add a calulating surface area method\n",
    "    def calc_sa(self):\n",
    "        return (self.height**2) * 6\n",
    "\n",
    "#Create a new instance\n",
    "Cube3 = Cube(6, 3, 10)\n",
    "#calculate the surface area\n",
    "SA_2 = Cube3.calc_sa()\n",
    "#print the result\n",
    "print(f\"The volume of the new cube is {SA_2}\")"
   ]
  },
  {
   "cell_type": "markdown",
   "metadata": {},
   "source": [
    "### 5) Create a Sphere object that inherits from the shape class\n",
    "\n",
    "Create a sphere class that inherits from the shape class, and adds the radius attribute. Give it methods of calculating total volume and surface area. \n",
    "\n",
    "Create two Sphere with radius = 12 and 3 respectively and print out the surface area and volume."
   ]
  },
  {
   "cell_type": "code",
   "execution_count": null,
   "metadata": {},
   "outputs": [],
   "source": [
    "#import pi from math\n",
    "from math import pi\n",
    "\n",
    "#create a new Sphere Class\n",
    "class Sphere(Shape):\n",
    "    #initialise with the instance characteristics\n",
    "    def __init__(self, faces, dimensions, radius):\n",
    "        Shape.__init__(self, faces, dimensions)\n",
    "        self.radius = radius\n",
    "    \n",
    "    #a method to calculate the volume\n",
    "    def calc_vol(self):\n",
    "        return 4/3 * pi * self.radius**3\n",
    "    \n",
    "    #a method to calculate the surface area\n",
    "    def calc_sa(self):\n",
    "        return 4 * pi * self.radius**2\n",
    "    \n",
    "#Create the two new instances \n",
    "Sphere1 = Sphere(1, 3, 12)\n",
    "Sphere2 = Sphere(1, 3, 3)\n",
    "\n",
    "#print out the results\n",
    "print(f\"The surface area and volumne of Sphere1 is: {Sphere1.calc_sa():.2f} and {Sphere1.calc_vol():.2f}\")\n",
    "print(f\"The surface area and volumne of Sphere2 is: {Sphere2.calc_sa():.2f} and {Sphere2.calc_vol():.2f}\")\n",
    "    \n",
    "    "
   ]
  }
 ],
 "metadata": {
  "kernelspec": {
   "display_name": "Python 3",
   "language": "python",
   "name": "python3"
  },
  "language_info": {
   "codemirror_mode": {
    "name": "ipython",
    "version": 3
   },
   "file_extension": ".py",
   "mimetype": "text/x-python",
   "name": "python",
   "nbconvert_exporter": "python",
   "pygments_lexer": "ipython3",
   "version": "3.7.9"
  }
 },
 "nbformat": 4,
 "nbformat_minor": 4
}
