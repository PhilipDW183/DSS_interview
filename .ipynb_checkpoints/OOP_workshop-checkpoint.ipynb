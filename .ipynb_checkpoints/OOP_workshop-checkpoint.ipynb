{
 "cells": [
  {
   "cell_type": "markdown",
   "metadata": {},
   "source": [
    "# Introduction to Object Oriented Programming\n",
    "\n",
    "Object oriented Programming is a way of structuring your code in a way that both characteristics and behaviours of data can be bundled together into a single structure. This single structure then allows you to use this again and again throughout your code. Consequently you can create new objects throughout your code to store data and perform specific functions. This is in contrast to procedural programming which follows a sequence of steps in order to complete a task using functions and code blocks which is the tradition in Data Science.\n",
    "\n",
    "This is very useful when it comes to storing data that you want to also bundle associated actions with as it allows you to utilise the base definition/blueprint again and again. \n",
    "\n",
    "An example of an application for this could be for a firm where you have multiple employees. For each employee you would want to store basic information such as: current wage, years worked for the firm, current grade and potentially their birthday. However, you may want to also add functions that allow you to change this information such as giving them a promotion, a wage increase or if they leave the firm. By creating an employee class you can store all this data and perform these functions all as part of one object per employee.\n",
    "\n",
    "The way this is done is by creating classes which are used as blueprints for objects. The class descirbed overall what the object will be, but is seperate from the object itself. "
   ]
  },
  {
   "cell_type": "markdown",
   "metadata": {},
   "source": [
    "## Defining a class \n",
    "\n",
    "The first thing to do for this is to define a class.  This is a structure that describes essentially what the object will be and acts as a blueprint. This can be used again and again to create multiple different objects that take the same structure, have the same attributes and perform the same functions.\n",
    "\n",
    "These are created using the keyword <b>class</b> and are followed by an indented block which contains methods (which are essentially the same as functions). An example of this would be as follows:"
   ]
  },
  {
   "cell_type": "code",
   "execution_count": 3,
   "metadata": {},
   "outputs": [],
   "source": [
    "class Employee:\n",
    "    \n",
    "    pass"
   ]
  },
  {
   "cell_type": "markdown",
   "metadata": {},
   "source": [
    "Here we have defined an employee class which takes pass as the only attribute currently, which is essentially an empty class. \n",
    "\n",
    "It is important to note here that to create a new class we have used the form `class <name>` where `<name>` has taken the name of the class that we are creating. In this case, this is the <b>employee</b> class. Naming these classes takes on a certain convention known as [CamelCase](https://en.wikipedia.org/wiki/Camel_case#:~:text=Camel%20case%20(stylized%20as%20camelCase,word%20starting%20with%20either%20case.) which essentially means that instead of `_` seperating words (as in the case of snake case), the beginning of words are capitalised like we have with Employee here.\n",
    "\n",
    "The next thing to note is that everything in the indented class has been specified will be part of the class. Since this is an empty class then nothing will be assigned to an instance of the class but we can run the following code to see what we can create an object of the class Employee:"
   ]
  },
  {
   "cell_type": "code",
   "execution_count": 4,
   "metadata": {},
   "outputs": [],
   "source": [
    "steve = Employee()"
   ]
  },
  {
   "cell_type": "markdown",
   "metadata": {},
   "source": [
    "We can check that Steve is an employee by using the following:"
   ]
  },
  {
   "cell_type": "code",
   "execution_count": 5,
   "metadata": {},
   "outputs": [
    {
     "data": {
      "text/plain": [
       "'Employee'"
      ]
     },
     "execution_count": 5,
     "metadata": {},
     "output_type": "execute_result"
    }
   ],
   "source": [
    "steve.__class__.__name__"
   ]
  },
  {
   "cell_type": "markdown",
   "metadata": {},
   "source": [
    "Here, the `.__class__` is able to check the type of class, while `.__name__` is able used to limit this to just printing out the name of the class. In this case it is `Employee`."
   ]
  },
  {
   "cell_type": "markdown",
   "metadata": {},
   "source": [
    "## Adding attributes\n",
    "\n",
    "The next step to creating a class is to then start adding attributes. This is done using the `__init__()` method which is called when an instance (object) of the class is created. Essentially this attaches attributes to any new object created.\n",
    "\n",
    "For our purposes, since we have an employee we want to assign a wage, a grade and the number of years worked:"
   ]
  },
  {
   "cell_type": "code",
   "execution_count": 6,
   "metadata": {},
   "outputs": [],
   "source": [
    "class Employee:\n",
    "    \n",
    "    def __init__(self, wage, grade, years_worked):\n",
    "        self.wage = wage\n",
    "        self.grade = grade\n",
    "        self.exp = years_worked\n",
    "        \n",
    "        \n",
    "Steve = Employee(25000, 3, 2)"
   ]
  },
  {
   "cell_type": "markdown",
   "metadata": {},
   "source": [
    "Now we can see that the code ran smoothly above and that Steve is created with a wage of 25,000, a grade of 3 and an experience of 2 years. \n",
    "\n",
    "It must be noted that all methods that are part of classes must have <b>self</b> as their first parameter, although it isn't eplicitly passed in the code. In this case, we didn't have to explicitly specify self when creating Steve but it is used to assign attributes to the class.\n",
    "\n",
    "We then want to be able to access these attributes so that we know about our Employee. These attributes can be accessed using dot notations. This means that we can put `.` and the attribute name after the instance. In this case, for Steve was can access his wage, grade and experience in the following ways:"
   ]
  },
  {
   "cell_type": "code",
   "execution_count": 7,
   "metadata": {},
   "outputs": [
    {
     "name": "stdout",
     "output_type": "stream",
     "text": [
      "Steve's wage is: 25000\n",
      "Steve's grade is: 3\n",
      "Steve has worked for 2 years\n"
     ]
    }
   ],
   "source": [
    "print(\"Steve's wage is:\", Steve.wage)\n",
    "print(\"Steve's grade is:\", Steve.grade)\n",
    "print(\"Steve has worked for\", Steve.exp, \"years\")"
   ]
  },
  {
   "cell_type": "markdown",
   "metadata": {},
   "source": [
    "Can you go ahead and make two other Employees of Emily and Alice with the following attributes:\n",
    "\n",
    "Emily - Wage: £40,000, grade: 5, years worked: 5\n",
    "\n",
    "Alice - Wage: £50,000, grade: 7, years worked: 10"
   ]
  },
  {
   "cell_type": "code",
   "execution_count": null,
   "metadata": {},
   "outputs": [],
   "source": []
  },
  {
   "cell_type": "markdown",
   "metadata": {},
   "source": [
    "Now print out Emily's Wage and grade and Alice's years worked:"
   ]
  },
  {
   "cell_type": "code",
   "execution_count": null,
   "metadata": {},
   "outputs": [],
   "source": []
  },
  {
   "cell_type": "markdown",
   "metadata": {},
   "source": [
    "The good thing about this is that, in the same way we can with basic functions, we can specify default values. For example, if we take a new employee/graduate we could set their basic wage as £20,000, grade as 1 and years worked for the company as 0:"
   ]
  },
  {
   "cell_type": "code",
   "execution_count": 8,
   "metadata": {},
   "outputs": [],
   "source": [
    "class Employee:\n",
    "    \n",
    "    def __init__(self, wage = 20_000, grade=1, years_worked=0):\n",
    "        self.wage = wage\n",
    "        self.grade = grade\n",
    "        self.exp = years_worked"
   ]
  },
  {
   "cell_type": "markdown",
   "metadata": {},
   "source": [
    "Now we can create a new Employee without having to specify any characteristics at all:"
   ]
  },
  {
   "cell_type": "code",
   "execution_count": 9,
   "metadata": {},
   "outputs": [
    {
     "name": "stdout",
     "output_type": "stream",
     "text": [
      "Williams's wage is: 20000\n",
      "Williams's grade is: 1\n",
      "William has worked for: 0 years\n"
     ]
    }
   ],
   "source": [
    "William = Employee()\n",
    "\n",
    "print(\"Williams's wage is:\", William.wage)\n",
    "print(\"Williams's grade is:\", William.grade)\n",
    "print(\"William has worked for:\", William.exp, \"years\")"
   ]
  },
  {
   "cell_type": "markdown",
   "metadata": {},
   "source": [
    "Attributes created using the `.__init__()` method are instance attributes as their value are specific to a particular instance of the class. Here, all Employees have wage, grade and years worked but each of these will be specific to the instance of the class created.\n",
    "\n",
    "On the other hand, there is also class attributes which have the same value for all class instances. These attributes are assigned prior to the `.__init__()` method. For our purposes we can assign a company that the Employee is working for:"
   ]
  },
  {
   "cell_type": "code",
   "execution_count": 18,
   "metadata": {},
   "outputs": [],
   "source": [
    "class Employee:\n",
    "    \n",
    "    #class attribute\n",
    "    company = \"Data Sci\"\n",
    "    \n",
    "    #instance attributes\n",
    "    def __init__(self, wage = 20_000, grade=1, years_worked=0):\n",
    "        self.wage = wage\n",
    "        self.grade = grade\n",
    "        self.exp = years_worked"
   ]
  },
  {
   "cell_type": "markdown",
   "metadata": {},
   "source": [
    "These class attributes can be accessed the same way as instance attributes, but they will be the same for all instances of the class created. For example:"
   ]
  },
  {
   "cell_type": "code",
   "execution_count": 21,
   "metadata": {},
   "outputs": [
    {
     "name": "stdout",
     "output_type": "stream",
     "text": [
      "Data Sci\n"
     ]
    }
   ],
   "source": [
    "Julie = Employee(35000, 3, 3)\n",
    "\n",
    "print(Julie.company)"
   ]
  },
  {
   "cell_type": "markdown",
   "metadata": {},
   "source": [
    "## Adding methods\n",
    "\n",
    "Now that we have introduced how to specify class and instance attributes, the next stage is to add methods. \n",
    "\n",
    "The `__init__()` method is one method which we have already been introduced to, which in this case is used to assign attributes when we first define an instance of the class. We can then start to define our own methods that perform certain actions with our objects, such as changing their characteristics or making them perform certain behaviours. These methods are defined in the same way as functions are, however since this is part of class we need to make sure that the `self` argument is passed.\n",
    "\n",
    "In the case of our Employees we can create a method by which we can give them a promotion, which comes with a wage increase of the standard £5,000 and grade increase of 1. "
   ]
  },
  {
   "cell_type": "code",
   "execution_count": 22,
   "metadata": {},
   "outputs": [],
   "source": [
    "class Employee:\n",
    "    \n",
    "    def __init__(self, wage = 20_000, grade=1, years_worked=0):\n",
    "        self.wage = wage\n",
    "        self.grade = grade\n",
    "        self.exp = years_worked\n",
    "        \n",
    "    def promotion(self):\n",
    "        self.wage += 5000\n",
    "        self.grade += 1"
   ]
  },
  {
   "cell_type": "markdown",
   "metadata": {},
   "source": [
    "Here in the promotion method we have called the self.wage attribute, and as can be remembered from previous Introduction to Python the `+=` takes the original value and adds the specified value, and added £5,000. For the self.grade attribute we have now added a 1 value. \n",
    "\n",
    "The result of this can be shown by generating a William Object and giving him a promotion. We can check the difference by seeing his wage and grade prior, and his wage and grade after."
   ]
  },
  {
   "cell_type": "code",
   "execution_count": 23,
   "metadata": {},
   "outputs": [
    {
     "name": "stdout",
     "output_type": "stream",
     "text": [
      "Williams's wage is: 20000\n",
      "Williams's grade is: 1\n",
      "William has worked for 0 years\n",
      "\n",
      "William has got a promotion\n",
      "\n",
      "Williams's wage is now: 25000\n",
      "Williams's grade is now: 2\n"
     ]
    }
   ],
   "source": [
    "William = Employee()\n",
    "\n",
    "#Checking the original objects attributes\n",
    "print(\"Williams's wage is:\", William.wage)\n",
    "print(\"Williams's grade is:\", William.grade)\n",
    "print(\"William has worked for\", William.exp, \"years\\n\")\n",
    "\n",
    "#Giving William and promotion\n",
    "print(\"William has got a promotion\\n\")\n",
    "William.promotion()\n",
    "\n",
    "#Checking to see that the grade and wage have changed\n",
    "print(\"Williams's wage is now:\", William.wage)\n",
    "print(\"Williams's grade is now:\", William.grade)"
   ]
  },
  {
   "cell_type": "markdown",
   "metadata": {},
   "source": [
    "Can you figure out how to create an anniversary method that adds a year to an Employee's work experience called 'anniversary':"
   ]
  },
  {
   "cell_type": "code",
   "execution_count": null,
   "metadata": {},
   "outputs": [],
   "source": [
    "class Employee:\n",
    "    \n",
    "    def __init__(self, wage = 20_000, grade=1, years_worked=0):\n",
    "        self.wage = wage\n",
    "        self.grade = grade\n",
    "        self.exp = years_worked\n",
    "        \n",
    "    def promotion(self):\n",
    "        self.wage += 5000\n",
    "        self.grade += 1\n",
    "        \n",
    "    def anniversary(self):\n",
    "        (??)"
   ]
  },
  {
   "cell_type": "markdown",
   "metadata": {},
   "source": [
    "Check to see this has worked by creating a new object of Sabrina with wage: £200,000, grade: 8, years experience: 25 and giving her an anniversary"
   ]
  },
  {
   "cell_type": "code",
   "execution_count": null,
   "metadata": {},
   "outputs": [],
   "source": []
  },
  {
   "cell_type": "markdown",
   "metadata": {},
   "source": [
    "## Class Inheritence\n",
    "\n",
    "The good thing about using classes in your code is that class can inherit attributes and methods from other classes. This is useful in many parts of programming and allows you to build on already existing functionality. An example of this would be that Geopandas (A library for manipulating geographical datasets) essentially inherits from Pandas, which allows Geopandas to use all the methods and attributes that Pandas has.\n",
    "\n",
    "Inheritence essentially allows you to define a new class that gets all the functionality of the old class but you can add extra functionality without copying the code from the previous class.\n",
    "\n",
    "This is done by declaring:\n",
    "\n",
    "`class MyChild(MyParent):\n",
    "    pass`\n",
    " \n",
    "Here MyParent is the class whose functionality is being extended/inherited, while MyChild is the class that will inherit the functionality. While here `pass` is used, you can do the same as before \n",
    "\n",
    "An example of this is specifying different types of Employees, for which considering we are working for 'Data Sci' company we can add Data Scientists:"
   ]
  },
  {
   "cell_type": "code",
   "execution_count": 19,
   "metadata": {},
   "outputs": [],
   "source": [
    "class DataScientist(Employee): #inherit from the Employee class\n",
    "    \n",
    "    #child's initialisation\n",
    "    def __init__(self, wage, grade, years_worked, p_languages):\n",
    "        #parents initialisation\n",
    "        Employee.__init__(self,wage,grade,years_worked)\n",
    "        #new characteristics to add\n",
    "        self.languages = p_languages\n",
    "\n",
    "#Create a new DataScientist\n",
    "Jessica = DataScientist(70000, 6, 12, [\"Python\", \"R\", \"SQL\"])\n",
    "\n",
    "#Output her languages\n",
    "Jessica.languages"
   ]
  },
  {
   "cell_type": "markdown",
   "metadata": {},
   "source": [
    "The thing to note here is that when you add the `__init__()` method to the child class, the child class will no longer inherit the parent's `__init__()` function. In this case, to keep the parent's `__init__()` function, we have added call to the Employee Initialisation method seen on the second line of the `__init__()` method - `Employee.__init__(self, wage, grade, years_worked)` qnd hence retained all that comes with this."
   ]
  },
  {
   "cell_type": "markdown",
   "metadata": {},
   "source": [
    "Once we know that, we can then start to build up our subclass like we did for our parent class. As in our initial class, after we have added the intial attributes, we can start to add methods to go with out subclass.\n",
    "\n",
    "For this purpose, given that we have a DataScientist we can add a learning language method whereby our DataScientist decides to learn a new language."
   ]
  },
  {
   "cell_type": "code",
   "execution_count": 21,
   "metadata": {},
   "outputs": [
    {
     "name": "stdout",
     "output_type": "stream",
     "text": [
      "['Python', 'R', 'SQL']\n",
      "['Python', 'R', 'SQL', 'JavaScript']\n"
     ]
    }
   ],
   "source": [
    "class DataScientist(Employee):\n",
    "    \n",
    "    def __init__(self, wage, grade, years_worked, p_languages):\n",
    "        \n",
    "        Employee.__init__(self,wage,grade,years_worked)\n",
    "        \n",
    "        self.languages = p_languages\n",
    "\n",
    "    def learn_lang(self, new_lang):\n",
    "        self.languages.append(new_lang)\n"
   ]
  },
  {
   "cell_type": "markdown",
   "metadata": {},
   "source": [
    "Once this is implemented we can then create a new DataScientist with the same langauges and see that she has learn a new language while working for the company."
   ]
  },
  {
   "cell_type": "code",
   "execution_count": 23,
   "metadata": {},
   "outputs": [
    {
     "name": "stdout",
     "output_type": "stream",
     "text": [
      "['Python', 'R', 'SQL']\n",
      "['Python', 'R', 'SQL', 'JavaScript']\n"
     ]
    }
   ],
   "source": [
    "#create new DataScientist\n",
    "Juliet = DataScientist(80000, 7, 15, [\"Python\", \"R\", \"SQL\"])\n",
    "\n",
    "#Print her current languages       \n",
    "print(Juliet.languages)\n",
    "\n",
    "#She learns a language    \n",
    "Juliet.learn_lang(\"JavaScript\")\n",
    "\n",
    "#check what languages she now knows\n",
    "print(Juliet.languages)"
   ]
  },
  {
   "cell_type": "markdown",
   "metadata": {},
   "source": [
    "And we can also call the same characteristics and and functions from the parent class in the child class. Go ahead, given that Juliet has now learnt a new language, try giving her a promotion just like we did above and print out hew wage and grade before and after:"
   ]
  },
  {
   "cell_type": "code",
   "execution_count": 22,
   "metadata": {},
   "outputs": [
    {
     "name": "stdout",
     "output_type": "stream",
     "text": [
      "80000\n",
      "7\n",
      "85000\n",
      "8\n"
     ]
    }
   ],
   "source": []
  },
  {
   "cell_type": "markdown",
   "metadata": {},
   "source": [
    "This is especially useful for making subclasses that take information from the parent class. You can even try making other workers such as a software engineer who has characteristics such as programming languages and operating system they work with. Feel free to have a go adding any other child to Employee you can think of:"
   ]
  },
  {
   "cell_type": "code",
   "execution_count": null,
   "metadata": {},
   "outputs": [],
   "source": []
  },
  {
   "cell_type": "markdown",
   "metadata": {},
   "source": [
    "It is worth noting that when it comes to designing class inheritence there is what is known as the Liskov Substitution Principle which says that the base class should be interchangeable with any of its subclasses without altering any proprties of the program. The rule that follows is that if the hierarchy of classes violates the Liskov Substitution PRinciple then you should not be using inheritence as it is likely to make the code behave in unpredictable ways further down the line. More can be found [here](https://codeburst.io/understanding-solid-principles-liskov-substitution-principle-e7f35277d8d5) and [here](https://en.wikipedia.org/wiki/Liskov_substitution_principle)"
   ]
  },
  {
   "cell_type": "markdown",
   "metadata": {},
   "source": [
    "# Additional learning"
   ]
  },
  {
   "cell_type": "code",
   "execution_count": null,
   "metadata": {},
   "outputs": [],
   "source": []
  }
 ],
 "metadata": {
  "kernelspec": {
   "display_name": "Python 3",
   "language": "python",
   "name": "python3"
  },
  "language_info": {
   "codemirror_mode": {
    "name": "ipython",
    "version": 3
   },
   "file_extension": ".py",
   "mimetype": "text/x-python",
   "name": "python",
   "nbconvert_exporter": "python",
   "pygments_lexer": "ipython3",
   "version": "3.7.9"
  }
 },
 "nbformat": 4,
 "nbformat_minor": 4
}
